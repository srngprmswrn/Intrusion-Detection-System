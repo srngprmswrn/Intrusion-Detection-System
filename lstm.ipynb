{
 "cells": [
  {
   "cell_type": "code",
   "execution_count": 96,
   "id": "5c79c59f",
   "metadata": {
    "execution": {
     "iopub.execute_input": "2023-09-15T01:26:59.450398Z",
     "iopub.status.busy": "2023-09-15T01:26:59.449802Z",
     "iopub.status.idle": "2023-09-15T01:27:10.914346Z",
     "shell.execute_reply": "2023-09-15T01:27:10.913266Z"
    },
    "papermill": {
     "duration": 11.478751,
     "end_time": "2023-09-15T01:27:10.916948",
     "exception": false,
     "start_time": "2023-09-15T01:26:59.438197",
     "status": "completed"
    },
    "tags": []
   },
   "outputs": [],
   "source": [
    "# importing required libraries\n",
    "import numpy as np\n",
    "import pandas as pd \n",
    "import pickle # saving and loading trained model\n",
    "from os import path\n",
    "\n",
    "# importing required libraries for normalizing data\n",
    "from sklearn import preprocessing\n",
    "from sklearn.preprocessing import StandardScaler\n",
    "\n",
    "# importing library for plotting\n",
    "import matplotlib.pyplot as plt\n",
    "import seaborn as sns\n",
    "\n",
    "from sklearn import metrics\n",
    "from sklearn.metrics import accuracy_score\n",
    "from sklearn.model_selection import train_test_split \n",
    "from sklearn.metrics import classification_report\n",
    "\n",
    "from sklearn.metrics import precision_score\n",
    "from sklearn.metrics import recall_score\n",
    "from sklearn.metrics import f1_score\n",
    "\n",
    "from sklearn.metrics import roc_auc_score\n",
    "from sklearn.metrics import roc_curve, auc\n",
    "\n",
    "import tensorflow as tf\n",
    "from keras.utils import to_categorical\n",
    "\n",
    "from keras.layers import Dense, LSTM, MaxPool1D, Flatten, Dropout # importing dense layer\n",
    "from keras.models import Sequential #importing Sequential layer\n",
    "from keras.layers import Input\n",
    "from keras.models import Model\n",
    "# representation of model layers\n",
    "from keras.utils import plot_model"
   ]
  },
  {
   "cell_type": "code",
   "execution_count": 97,
   "id": "2c659769",
   "metadata": {
    "execution": {
     "iopub.execute_input": "2023-09-15T01:27:10.935964Z",
     "iopub.status.busy": "2023-09-15T01:27:10.935301Z",
     "iopub.status.idle": "2023-09-15T01:27:10.941630Z",
     "shell.execute_reply": "2023-09-15T01:27:10.940762Z"
    },
    "papermill": {
     "duration": 0.017918,
     "end_time": "2023-09-15T01:27:10.943604",
     "exception": false,
     "start_time": "2023-09-15T01:27:10.925686",
     "status": "completed"
    },
    "tags": []
   },
   "outputs": [],
   "source": [
    "feature=[\"duration\",\"protocol_type\",\"service\",\"flag\",\"src_bytes\",\"dst_bytes\",\"land\",\"wrong_fragment\",\"urgent\",\"hot\",\n",
    "          \"num_failed_logins\",\"logged_in\",\"num_compromised\",\"root_shell\",\"su_attempted\",\"num_root\",\"num_file_creations\",\"num_shells\",\n",
    "          \"num_access_files\",\"num_outbound_cmds\",\"is_host_login\",\"is_guest_login\",\"count\",\"srv_count\",\"serror_rate\",\"srv_serror_rate\",\n",
    "          \"rerror_rate\",\"srv_rerror_rate\",\"same_srv_rate\",\"diff_srv_rate\",\"srv_diff_host_rate\",\"dst_host_count\",\"dst_host_srv_count\", \n",
    "          \"dst_host_same_srv_rate\",\"dst_host_diff_srv_rate\",\"dst_host_same_src_port_rate\",\"dst_host_srv_diff_host_rate\",\"dst_host_serror_rate\",\n",
    "          \"dst_host_srv_serror_rate\",\"dst_host_rerror_rate\",\"dst_host_srv_rerror_rate\",\"label\",\"difficulty\"]"
   ]
  },
  {
   "cell_type": "code",
   "execution_count": 98,
   "id": "73000715",
   "metadata": {
    "execution": {
     "iopub.execute_input": "2023-09-15T01:27:10.962249Z",
     "iopub.status.busy": "2023-09-15T01:27:10.961658Z",
     "iopub.status.idle": "2023-09-15T01:27:11.908017Z",
     "shell.execute_reply": "2023-09-15T01:27:11.907055Z"
    },
    "papermill": {
     "duration": 0.958548,
     "end_time": "2023-09-15T01:27:11.910533",
     "exception": false,
     "start_time": "2023-09-15T01:27:10.951985",
     "status": "completed"
    },
    "tags": []
   },
   "outputs": [],
   "source": [
    "\n",
    "train_data=pd.read_csv('KDDTrain+.txt',names=feature)\n",
    "test_data=pd.read_csv('KDDTest+.txt',names=feature)\n",
    "test_data21 = pd.read_csv('KDDTest-21.txt', names= feature)\n",
    "data= pd.concat([train_data, test_data], ignore_index=True)"
   ]
  },
  {
   "cell_type": "code",
   "execution_count": 99,
   "id": "690826b6",
   "metadata": {
    "execution": {
     "iopub.execute_input": "2023-09-15T01:27:11.928885Z",
     "iopub.status.busy": "2023-09-15T01:27:11.928525Z",
     "iopub.status.idle": "2023-09-15T01:27:12.025892Z",
     "shell.execute_reply": "2023-09-15T01:27:12.024252Z"
    },
    "papermill": {
     "duration": 0.110449,
     "end_time": "2023-09-15T01:27:12.029337",
     "exception": false,
     "start_time": "2023-09-15T01:27:11.918888",
     "status": "completed"
    },
    "tags": []
   },
   "outputs": [
    {
     "data": {
      "text/html": [
       "<div>\n",
       "<style scoped>\n",
       "    .dataframe tbody tr th:only-of-type {\n",
       "        vertical-align: middle;\n",
       "    }\n",
       "\n",
       "    .dataframe tbody tr th {\n",
       "        vertical-align: top;\n",
       "    }\n",
       "\n",
       "    .dataframe thead th {\n",
       "        text-align: right;\n",
       "    }\n",
       "</style>\n",
       "<table border=\"1\" class=\"dataframe\">\n",
       "  <thead>\n",
       "    <tr style=\"text-align: right;\">\n",
       "      <th></th>\n",
       "      <th>duration</th>\n",
       "      <th>protocol_type</th>\n",
       "      <th>service</th>\n",
       "      <th>flag</th>\n",
       "      <th>src_bytes</th>\n",
       "      <th>dst_bytes</th>\n",
       "      <th>land</th>\n",
       "      <th>wrong_fragment</th>\n",
       "      <th>urgent</th>\n",
       "      <th>hot</th>\n",
       "      <th>...</th>\n",
       "      <th>dst_host_same_srv_rate</th>\n",
       "      <th>dst_host_diff_srv_rate</th>\n",
       "      <th>dst_host_same_src_port_rate</th>\n",
       "      <th>dst_host_srv_diff_host_rate</th>\n",
       "      <th>dst_host_serror_rate</th>\n",
       "      <th>dst_host_srv_serror_rate</th>\n",
       "      <th>dst_host_rerror_rate</th>\n",
       "      <th>dst_host_srv_rerror_rate</th>\n",
       "      <th>label</th>\n",
       "      <th>difficulty</th>\n",
       "    </tr>\n",
       "  </thead>\n",
       "  <tbody>\n",
       "    <tr>\n",
       "      <th>0</th>\n",
       "      <td>0</td>\n",
       "      <td>tcp</td>\n",
       "      <td>ftp_data</td>\n",
       "      <td>SF</td>\n",
       "      <td>491</td>\n",
       "      <td>0</td>\n",
       "      <td>0</td>\n",
       "      <td>0</td>\n",
       "      <td>0</td>\n",
       "      <td>0</td>\n",
       "      <td>...</td>\n",
       "      <td>0.17</td>\n",
       "      <td>0.03</td>\n",
       "      <td>0.17</td>\n",
       "      <td>0.00</td>\n",
       "      <td>0.00</td>\n",
       "      <td>0.00</td>\n",
       "      <td>0.05</td>\n",
       "      <td>0.00</td>\n",
       "      <td>normal</td>\n",
       "      <td>20</td>\n",
       "    </tr>\n",
       "    <tr>\n",
       "      <th>1</th>\n",
       "      <td>0</td>\n",
       "      <td>udp</td>\n",
       "      <td>other</td>\n",
       "      <td>SF</td>\n",
       "      <td>146</td>\n",
       "      <td>0</td>\n",
       "      <td>0</td>\n",
       "      <td>0</td>\n",
       "      <td>0</td>\n",
       "      <td>0</td>\n",
       "      <td>...</td>\n",
       "      <td>0.00</td>\n",
       "      <td>0.60</td>\n",
       "      <td>0.88</td>\n",
       "      <td>0.00</td>\n",
       "      <td>0.00</td>\n",
       "      <td>0.00</td>\n",
       "      <td>0.00</td>\n",
       "      <td>0.00</td>\n",
       "      <td>normal</td>\n",
       "      <td>15</td>\n",
       "    </tr>\n",
       "    <tr>\n",
       "      <th>2</th>\n",
       "      <td>0</td>\n",
       "      <td>tcp</td>\n",
       "      <td>private</td>\n",
       "      <td>S0</td>\n",
       "      <td>0</td>\n",
       "      <td>0</td>\n",
       "      <td>0</td>\n",
       "      <td>0</td>\n",
       "      <td>0</td>\n",
       "      <td>0</td>\n",
       "      <td>...</td>\n",
       "      <td>0.10</td>\n",
       "      <td>0.05</td>\n",
       "      <td>0.00</td>\n",
       "      <td>0.00</td>\n",
       "      <td>1.00</td>\n",
       "      <td>1.00</td>\n",
       "      <td>0.00</td>\n",
       "      <td>0.00</td>\n",
       "      <td>neptune</td>\n",
       "      <td>19</td>\n",
       "    </tr>\n",
       "    <tr>\n",
       "      <th>3</th>\n",
       "      <td>0</td>\n",
       "      <td>tcp</td>\n",
       "      <td>http</td>\n",
       "      <td>SF</td>\n",
       "      <td>232</td>\n",
       "      <td>8153</td>\n",
       "      <td>0</td>\n",
       "      <td>0</td>\n",
       "      <td>0</td>\n",
       "      <td>0</td>\n",
       "      <td>...</td>\n",
       "      <td>1.00</td>\n",
       "      <td>0.00</td>\n",
       "      <td>0.03</td>\n",
       "      <td>0.04</td>\n",
       "      <td>0.03</td>\n",
       "      <td>0.01</td>\n",
       "      <td>0.00</td>\n",
       "      <td>0.01</td>\n",
       "      <td>normal</td>\n",
       "      <td>21</td>\n",
       "    </tr>\n",
       "    <tr>\n",
       "      <th>4</th>\n",
       "      <td>0</td>\n",
       "      <td>tcp</td>\n",
       "      <td>http</td>\n",
       "      <td>SF</td>\n",
       "      <td>199</td>\n",
       "      <td>420</td>\n",
       "      <td>0</td>\n",
       "      <td>0</td>\n",
       "      <td>0</td>\n",
       "      <td>0</td>\n",
       "      <td>...</td>\n",
       "      <td>1.00</td>\n",
       "      <td>0.00</td>\n",
       "      <td>0.00</td>\n",
       "      <td>0.00</td>\n",
       "      <td>0.00</td>\n",
       "      <td>0.00</td>\n",
       "      <td>0.00</td>\n",
       "      <td>0.00</td>\n",
       "      <td>normal</td>\n",
       "      <td>21</td>\n",
       "    </tr>\n",
       "    <tr>\n",
       "      <th>...</th>\n",
       "      <td>...</td>\n",
       "      <td>...</td>\n",
       "      <td>...</td>\n",
       "      <td>...</td>\n",
       "      <td>...</td>\n",
       "      <td>...</td>\n",
       "      <td>...</td>\n",
       "      <td>...</td>\n",
       "      <td>...</td>\n",
       "      <td>...</td>\n",
       "      <td>...</td>\n",
       "      <td>...</td>\n",
       "      <td>...</td>\n",
       "      <td>...</td>\n",
       "      <td>...</td>\n",
       "      <td>...</td>\n",
       "      <td>...</td>\n",
       "      <td>...</td>\n",
       "      <td>...</td>\n",
       "      <td>...</td>\n",
       "      <td>...</td>\n",
       "    </tr>\n",
       "    <tr>\n",
       "      <th>148512</th>\n",
       "      <td>0</td>\n",
       "      <td>tcp</td>\n",
       "      <td>smtp</td>\n",
       "      <td>SF</td>\n",
       "      <td>794</td>\n",
       "      <td>333</td>\n",
       "      <td>0</td>\n",
       "      <td>0</td>\n",
       "      <td>0</td>\n",
       "      <td>0</td>\n",
       "      <td>...</td>\n",
       "      <td>0.72</td>\n",
       "      <td>0.06</td>\n",
       "      <td>0.01</td>\n",
       "      <td>0.01</td>\n",
       "      <td>0.01</td>\n",
       "      <td>0.00</td>\n",
       "      <td>0.00</td>\n",
       "      <td>0.00</td>\n",
       "      <td>normal</td>\n",
       "      <td>21</td>\n",
       "    </tr>\n",
       "    <tr>\n",
       "      <th>148513</th>\n",
       "      <td>0</td>\n",
       "      <td>tcp</td>\n",
       "      <td>http</td>\n",
       "      <td>SF</td>\n",
       "      <td>317</td>\n",
       "      <td>938</td>\n",
       "      <td>0</td>\n",
       "      <td>0</td>\n",
       "      <td>0</td>\n",
       "      <td>0</td>\n",
       "      <td>...</td>\n",
       "      <td>1.00</td>\n",
       "      <td>0.00</td>\n",
       "      <td>0.01</td>\n",
       "      <td>0.01</td>\n",
       "      <td>0.01</td>\n",
       "      <td>0.00</td>\n",
       "      <td>0.00</td>\n",
       "      <td>0.00</td>\n",
       "      <td>normal</td>\n",
       "      <td>21</td>\n",
       "    </tr>\n",
       "    <tr>\n",
       "      <th>148514</th>\n",
       "      <td>0</td>\n",
       "      <td>tcp</td>\n",
       "      <td>http</td>\n",
       "      <td>SF</td>\n",
       "      <td>54540</td>\n",
       "      <td>8314</td>\n",
       "      <td>0</td>\n",
       "      <td>0</td>\n",
       "      <td>0</td>\n",
       "      <td>2</td>\n",
       "      <td>...</td>\n",
       "      <td>1.00</td>\n",
       "      <td>0.00</td>\n",
       "      <td>0.00</td>\n",
       "      <td>0.00</td>\n",
       "      <td>0.00</td>\n",
       "      <td>0.00</td>\n",
       "      <td>0.07</td>\n",
       "      <td>0.07</td>\n",
       "      <td>back</td>\n",
       "      <td>15</td>\n",
       "    </tr>\n",
       "    <tr>\n",
       "      <th>148515</th>\n",
       "      <td>0</td>\n",
       "      <td>udp</td>\n",
       "      <td>domain_u</td>\n",
       "      <td>SF</td>\n",
       "      <td>42</td>\n",
       "      <td>42</td>\n",
       "      <td>0</td>\n",
       "      <td>0</td>\n",
       "      <td>0</td>\n",
       "      <td>0</td>\n",
       "      <td>...</td>\n",
       "      <td>0.99</td>\n",
       "      <td>0.01</td>\n",
       "      <td>0.00</td>\n",
       "      <td>0.00</td>\n",
       "      <td>0.00</td>\n",
       "      <td>0.00</td>\n",
       "      <td>0.00</td>\n",
       "      <td>0.00</td>\n",
       "      <td>normal</td>\n",
       "      <td>21</td>\n",
       "    </tr>\n",
       "    <tr>\n",
       "      <th>148516</th>\n",
       "      <td>0</td>\n",
       "      <td>tcp</td>\n",
       "      <td>sunrpc</td>\n",
       "      <td>REJ</td>\n",
       "      <td>0</td>\n",
       "      <td>0</td>\n",
       "      <td>0</td>\n",
       "      <td>0</td>\n",
       "      <td>0</td>\n",
       "      <td>0</td>\n",
       "      <td>...</td>\n",
       "      <td>0.08</td>\n",
       "      <td>0.03</td>\n",
       "      <td>0.00</td>\n",
       "      <td>0.00</td>\n",
       "      <td>0.00</td>\n",
       "      <td>0.00</td>\n",
       "      <td>0.44</td>\n",
       "      <td>1.00</td>\n",
       "      <td>mscan</td>\n",
       "      <td>14</td>\n",
       "    </tr>\n",
       "  </tbody>\n",
       "</table>\n",
       "<p>148517 rows × 43 columns</p>\n",
       "</div>"
      ],
      "text/plain": [
       "        duration protocol_type   service flag  src_bytes  dst_bytes  land  \\\n",
       "0              0           tcp  ftp_data   SF        491          0     0   \n",
       "1              0           udp     other   SF        146          0     0   \n",
       "2              0           tcp   private   S0          0          0     0   \n",
       "3              0           tcp      http   SF        232       8153     0   \n",
       "4              0           tcp      http   SF        199        420     0   \n",
       "...          ...           ...       ...  ...        ...        ...   ...   \n",
       "148512         0           tcp      smtp   SF        794        333     0   \n",
       "148513         0           tcp      http   SF        317        938     0   \n",
       "148514         0           tcp      http   SF      54540       8314     0   \n",
       "148515         0           udp  domain_u   SF         42         42     0   \n",
       "148516         0           tcp    sunrpc  REJ          0          0     0   \n",
       "\n",
       "        wrong_fragment  urgent  hot  ...  dst_host_same_srv_rate  \\\n",
       "0                    0       0    0  ...                    0.17   \n",
       "1                    0       0    0  ...                    0.00   \n",
       "2                    0       0    0  ...                    0.10   \n",
       "3                    0       0    0  ...                    1.00   \n",
       "4                    0       0    0  ...                    1.00   \n",
       "...                ...     ...  ...  ...                     ...   \n",
       "148512               0       0    0  ...                    0.72   \n",
       "148513               0       0    0  ...                    1.00   \n",
       "148514               0       0    2  ...                    1.00   \n",
       "148515               0       0    0  ...                    0.99   \n",
       "148516               0       0    0  ...                    0.08   \n",
       "\n",
       "        dst_host_diff_srv_rate  dst_host_same_src_port_rate  \\\n",
       "0                         0.03                         0.17   \n",
       "1                         0.60                         0.88   \n",
       "2                         0.05                         0.00   \n",
       "3                         0.00                         0.03   \n",
       "4                         0.00                         0.00   \n",
       "...                        ...                          ...   \n",
       "148512                    0.06                         0.01   \n",
       "148513                    0.00                         0.01   \n",
       "148514                    0.00                         0.00   \n",
       "148515                    0.01                         0.00   \n",
       "148516                    0.03                         0.00   \n",
       "\n",
       "        dst_host_srv_diff_host_rate  dst_host_serror_rate  \\\n",
       "0                              0.00                  0.00   \n",
       "1                              0.00                  0.00   \n",
       "2                              0.00                  1.00   \n",
       "3                              0.04                  0.03   \n",
       "4                              0.00                  0.00   \n",
       "...                             ...                   ...   \n",
       "148512                         0.01                  0.01   \n",
       "148513                         0.01                  0.01   \n",
       "148514                         0.00                  0.00   \n",
       "148515                         0.00                  0.00   \n",
       "148516                         0.00                  0.00   \n",
       "\n",
       "        dst_host_srv_serror_rate  dst_host_rerror_rate  \\\n",
       "0                           0.00                  0.05   \n",
       "1                           0.00                  0.00   \n",
       "2                           1.00                  0.00   \n",
       "3                           0.01                  0.00   \n",
       "4                           0.00                  0.00   \n",
       "...                          ...                   ...   \n",
       "148512                      0.00                  0.00   \n",
       "148513                      0.00                  0.00   \n",
       "148514                      0.00                  0.07   \n",
       "148515                      0.00                  0.00   \n",
       "148516                      0.00                  0.44   \n",
       "\n",
       "        dst_host_srv_rerror_rate    label  difficulty  \n",
       "0                           0.00   normal          20  \n",
       "1                           0.00   normal          15  \n",
       "2                           0.00  neptune          19  \n",
       "3                           0.01   normal          21  \n",
       "4                           0.00   normal          21  \n",
       "...                          ...      ...         ...  \n",
       "148512                      0.00   normal          21  \n",
       "148513                      0.00   normal          21  \n",
       "148514                      0.07     back          15  \n",
       "148515                      0.00   normal          21  \n",
       "148516                      1.00    mscan          14  \n",
       "\n",
       "[148517 rows x 43 columns]"
      ]
     },
     "execution_count": 99,
     "metadata": {},
     "output_type": "execute_result"
    }
   ],
   "source": [
    "data"
   ]
  },
  {
   "cell_type": "code",
   "execution_count": 100,
   "id": "1b90c166",
   "metadata": {
    "execution": {
     "iopub.execute_input": "2023-09-15T01:27:12.048962Z",
     "iopub.status.busy": "2023-09-15T01:27:12.048589Z",
     "iopub.status.idle": "2023-09-15T01:27:12.077769Z",
     "shell.execute_reply": "2023-09-15T01:27:12.076550Z"
    },
    "papermill": {
     "duration": 0.041891,
     "end_time": "2023-09-15T01:27:12.080441",
     "exception": false,
     "start_time": "2023-09-15T01:27:12.038550",
     "status": "completed"
    },
    "tags": []
   },
   "outputs": [],
   "source": [
    "# remove attribute 'difficulty_level'\n",
    "data.drop(['difficulty'],axis=1,inplace=True)"
   ]
  },
  {
   "cell_type": "code",
   "execution_count": 101,
   "id": "c9f475e8",
   "metadata": {
    "execution": {
     "iopub.execute_input": "2023-09-15T01:27:12.101075Z",
     "iopub.status.busy": "2023-09-15T01:27:12.100642Z",
     "iopub.status.idle": "2023-09-15T01:27:12.163671Z",
     "shell.execute_reply": "2023-09-15T01:27:12.162504Z"
    },
    "papermill": {
     "duration": 0.076469,
     "end_time": "2023-09-15T01:27:12.166119",
     "exception": false,
     "start_time": "2023-09-15T01:27:12.089650",
     "status": "completed"
    },
    "tags": []
   },
   "outputs": [
    {
     "name": "stdout",
     "output_type": "stream",
     "text": [
      "<class 'pandas.core.frame.DataFrame'>\n",
      "RangeIndex: 148517 entries, 0 to 148516\n",
      "Data columns (total 42 columns):\n",
      " #   Column                       Non-Null Count   Dtype  \n",
      "---  ------                       --------------   -----  \n",
      " 0   duration                     148517 non-null  int64  \n",
      " 1   protocol_type                148517 non-null  object \n",
      " 2   service                      148517 non-null  object \n",
      " 3   flag                         148517 non-null  object \n",
      " 4   src_bytes                    148517 non-null  int64  \n",
      " 5   dst_bytes                    148517 non-null  int64  \n",
      " 6   land                         148517 non-null  int64  \n",
      " 7   wrong_fragment               148517 non-null  int64  \n",
      " 8   urgent                       148517 non-null  int64  \n",
      " 9   hot                          148517 non-null  int64  \n",
      " 10  num_failed_logins            148517 non-null  int64  \n",
      " 11  logged_in                    148517 non-null  int64  \n",
      " 12  num_compromised              148517 non-null  int64  \n",
      " 13  root_shell                   148517 non-null  int64  \n",
      " 14  su_attempted                 148517 non-null  int64  \n",
      " 15  num_root                     148517 non-null  int64  \n",
      " 16  num_file_creations           148517 non-null  int64  \n",
      " 17  num_shells                   148517 non-null  int64  \n",
      " 18  num_access_files             148517 non-null  int64  \n",
      " 19  num_outbound_cmds            148517 non-null  int64  \n",
      " 20  is_host_login                148517 non-null  int64  \n",
      " 21  is_guest_login               148517 non-null  int64  \n",
      " 22  count                        148517 non-null  int64  \n",
      " 23  srv_count                    148517 non-null  int64  \n",
      " 24  serror_rate                  148517 non-null  float64\n",
      " 25  srv_serror_rate              148517 non-null  float64\n",
      " 26  rerror_rate                  148517 non-null  float64\n",
      " 27  srv_rerror_rate              148517 non-null  float64\n",
      " 28  same_srv_rate                148517 non-null  float64\n",
      " 29  diff_srv_rate                148517 non-null  float64\n",
      " 30  srv_diff_host_rate           148517 non-null  float64\n",
      " 31  dst_host_count               148517 non-null  int64  \n",
      " 32  dst_host_srv_count           148517 non-null  int64  \n",
      " 33  dst_host_same_srv_rate       148517 non-null  float64\n",
      " 34  dst_host_diff_srv_rate       148517 non-null  float64\n",
      " 35  dst_host_same_src_port_rate  148517 non-null  float64\n",
      " 36  dst_host_srv_diff_host_rate  148517 non-null  float64\n",
      " 37  dst_host_serror_rate         148517 non-null  float64\n",
      " 38  dst_host_srv_serror_rate     148517 non-null  float64\n",
      " 39  dst_host_rerror_rate         148517 non-null  float64\n",
      " 40  dst_host_srv_rerror_rate     148517 non-null  float64\n",
      " 41  label                        148517 non-null  object \n",
      "dtypes: float64(15), int64(23), object(4)\n",
      "memory usage: 47.6+ MB\n"
     ]
    }
   ],
   "source": [
    "data.info()"
   ]
  },
  {
   "cell_type": "code",
   "execution_count": 102,
   "id": "ac7f39b8",
   "metadata": {
    "execution": {
     "iopub.execute_input": "2023-09-15T01:27:12.507658Z",
     "iopub.status.busy": "2023-09-15T01:27:12.507252Z",
     "iopub.status.idle": "2023-09-15T01:27:12.529903Z",
     "shell.execute_reply": "2023-09-15T01:27:12.529124Z"
    },
    "papermill": {
     "duration": 0.036113,
     "end_time": "2023-09-15T01:27:12.531869",
     "exception": false,
     "start_time": "2023-09-15T01:27:12.495756",
     "status": "completed"
    },
    "tags": []
   },
   "outputs": [
    {
     "data": {
      "text/plain": [
       "normal             77054\n",
       "neptune            45871\n",
       "satan               4368\n",
       "ipsweep             3740\n",
       "smurf               3311\n",
       "portsweep           3088\n",
       "nmap                1566\n",
       "back                1315\n",
       "guess_passwd        1284\n",
       "mscan                996\n",
       "warezmaster          964\n",
       "teardrop             904\n",
       "warezclient          890\n",
       "apache2              737\n",
       "processtable         685\n",
       "snmpguess            331\n",
       "saint                319\n",
       "mailbomb             293\n",
       "pod                  242\n",
       "snmpgetattack        178\n",
       "httptunnel           133\n",
       "buffer_overflow       50\n",
       "land                  25\n",
       "multihop              25\n",
       "rootkit               23\n",
       "named                 17\n",
       "ps                    15\n",
       "sendmail              14\n",
       "xterm                 13\n",
       "imap                  12\n",
       "loadmodule            11\n",
       "ftp_write             11\n",
       "xlock                  9\n",
       "phf                    6\n",
       "perl                   5\n",
       "xsnoop                 4\n",
       "spy                    2\n",
       "worm                   2\n",
       "sqlattack              2\n",
       "udpstorm               2\n",
       "Name: label, dtype: int64"
      ]
     },
     "execution_count": 102,
     "metadata": {},
     "output_type": "execute_result"
    }
   ],
   "source": [
    "# number of attack labels \n",
    "data['label'].value_counts()"
   ]
  },
  {
   "cell_type": "code",
   "execution_count": 103,
   "id": "691162ed",
   "metadata": {
    "execution": {
     "iopub.execute_input": "2023-09-15T01:27:12.554316Z",
     "iopub.status.busy": "2023-09-15T01:27:12.553879Z",
     "iopub.status.idle": "2023-09-15T01:27:12.560828Z",
     "shell.execute_reply": "2023-09-15T01:27:12.559682Z"
    },
    "papermill": {
     "duration": 0.020863,
     "end_time": "2023-09-15T01:27:12.563010",
     "exception": false,
     "start_time": "2023-09-15T01:27:12.542147",
     "status": "completed"
    },
    "tags": []
   },
   "outputs": [],
   "source": [
    "# Redistribute across common attack class\n",
    "def change_label(df):\n",
    "  df.label.replace(['apache2','back','land','neptune','mailbomb','pod','processtable','smurf','teardrop','udpstorm','worm'],'Dos',inplace=True)\n",
    "  df.label.replace(['ftp_write','guess_passwd','httptunnel','imap','multihop','named','phf','sendmail','snmpgetattack','snmpguess','spy','warezclient','warezmaster','xlock','xsnoop'],'R2L',inplace=True)      \n",
    "  df.label.replace(['ipsweep','mscan','nmap','portsweep','saint','satan'],'Probe',inplace=True)\n",
    "  df.label.replace(['buffer_overflow','loadmodule','perl','ps','rootkit','sqlattack','xterm'],'U2R',inplace=True)"
   ]
  },
  {
   "cell_type": "code",
   "execution_count": 104,
   "id": "e6fc4bce",
   "metadata": {
    "execution": {
     "iopub.execute_input": "2023-09-15T01:27:12.584914Z",
     "iopub.status.busy": "2023-09-15T01:27:12.584195Z",
     "iopub.status.idle": "2023-09-15T01:27:12.799714Z",
     "shell.execute_reply": "2023-09-15T01:27:12.798602Z"
    },
    "papermill": {
     "duration": 0.229474,
     "end_time": "2023-09-15T01:27:12.802565",
     "exception": false,
     "start_time": "2023-09-15T01:27:12.573091",
     "status": "completed"
    },
    "tags": []
   },
   "outputs": [],
   "source": [
    "change_label(data)"
   ]
  },
  {
   "cell_type": "code",
   "execution_count": 105,
   "id": "cbc87ef6",
   "metadata": {
    "execution": {
     "iopub.execute_input": "2023-09-15T01:27:12.824068Z",
     "iopub.status.busy": "2023-09-15T01:27:12.823659Z",
     "iopub.status.idle": "2023-09-15T01:27:12.842928Z",
     "shell.execute_reply": "2023-09-15T01:27:12.841864Z"
    },
    "papermill": {
     "duration": 0.032547,
     "end_time": "2023-09-15T01:27:12.845092",
     "exception": false,
     "start_time": "2023-09-15T01:27:12.812545",
     "status": "completed"
    },
    "tags": []
   },
   "outputs": [
    {
     "data": {
      "text/plain": [
       "normal    77054\n",
       "Dos       53387\n",
       "Probe     14077\n",
       "R2L        3880\n",
       "U2R         119\n",
       "Name: label, dtype: int64"
      ]
     },
     "execution_count": 105,
     "metadata": {},
     "output_type": "execute_result"
    }
   ],
   "source": [
    "# distribution of attack classes\n",
    "data.label.value_counts()"
   ]
  },
  {
   "cell_type": "code",
   "execution_count": 106,
   "id": "083c8b50",
   "metadata": {
    "execution": {
     "iopub.execute_input": "2023-09-15T01:27:12.866966Z",
     "iopub.status.busy": "2023-09-15T01:27:12.866537Z",
     "iopub.status.idle": "2023-09-15T01:27:12.873039Z",
     "shell.execute_reply": "2023-09-15T01:27:12.871969Z"
    },
    "papermill": {
     "duration": 0.020088,
     "end_time": "2023-09-15T01:27:12.875218",
     "exception": false,
     "start_time": "2023-09-15T01:27:12.855130",
     "status": "completed"
    },
    "tags": []
   },
   "outputs": [],
   "source": [
    "# creating a dataframe with multi-class labels (Dos,Probe,R2L,U2R,normal)\n",
    "label = pd.DataFrame(data.label)"
   ]
  },
  {
   "cell_type": "code",
   "execution_count": 107,
   "id": "4c1fa4ef",
   "metadata": {
    "execution": {
     "iopub.execute_input": "2023-09-15T01:27:12.897957Z",
     "iopub.status.busy": "2023-09-15T01:27:12.897570Z",
     "iopub.status.idle": "2023-09-15T01:27:13.035671Z",
     "shell.execute_reply": "2023-09-15T01:27:13.034326Z"
    },
    "papermill": {
     "duration": 0.15444,
     "end_time": "2023-09-15T01:27:13.039808",
     "exception": false,
     "start_time": "2023-09-15T01:27:12.885368",
     "status": "completed"
    },
    "tags": []
   },
   "outputs": [],
   "source": [
    "# using standard scaler for normalizing\n",
    "std_scaler = StandardScaler()\n",
    "def standardization(df,col):\n",
    "    for i in col:\n",
    "        arr = df[i]\n",
    "        arr = np.array(arr)\n",
    "        df[i] = std_scaler.fit_transform(arr.reshape(len(arr),1))\n",
    "    return df\n",
    "\n",
    "numeric_col = data.select_dtypes(include='number').columns\n",
    "data = standardization(data,numeric_col)\n"
   ]
  },
  {
   "cell_type": "code",
   "execution_count": 108,
   "id": "401b0866",
   "metadata": {
    "execution": {
     "iopub.execute_input": "2023-09-15T01:27:13.061418Z",
     "iopub.status.busy": "2023-09-15T01:27:13.061017Z",
     "iopub.status.idle": "2023-09-15T01:27:13.207607Z",
     "shell.execute_reply": "2023-09-15T01:27:13.206801Z"
    },
    "papermill": {
     "duration": 0.159869,
     "end_time": "2023-09-15T01:27:13.209775",
     "exception": false,
     "start_time": "2023-09-15T01:27:13.049906",
     "status": "completed"
    },
    "tags": []
   },
   "outputs": [
    {
     "name": "stdout",
     "output_type": "stream",
     "text": [
      "(148517, 43)\n"
     ]
    },
    {
     "data": {
      "text/html": [
       "<div>\n",
       "<style scoped>\n",
       "    .dataframe tbody tr th:only-of-type {\n",
       "        vertical-align: middle;\n",
       "    }\n",
       "\n",
       "    .dataframe tbody tr th {\n",
       "        vertical-align: top;\n",
       "    }\n",
       "\n",
       "    .dataframe thead th {\n",
       "        text-align: right;\n",
       "    }\n",
       "</style>\n",
       "<table border=\"1\" class=\"dataframe\">\n",
       "  <thead>\n",
       "    <tr style=\"text-align: right;\">\n",
       "      <th></th>\n",
       "      <th>duration</th>\n",
       "      <th>protocol_type</th>\n",
       "      <th>service</th>\n",
       "      <th>flag</th>\n",
       "      <th>src_bytes</th>\n",
       "      <th>dst_bytes</th>\n",
       "      <th>land</th>\n",
       "      <th>wrong_fragment</th>\n",
       "      <th>urgent</th>\n",
       "      <th>hot</th>\n",
       "      <th>...</th>\n",
       "      <th>dst_host_same_srv_rate</th>\n",
       "      <th>dst_host_diff_srv_rate</th>\n",
       "      <th>dst_host_same_src_port_rate</th>\n",
       "      <th>dst_host_srv_diff_host_rate</th>\n",
       "      <th>dst_host_serror_rate</th>\n",
       "      <th>dst_host_srv_serror_rate</th>\n",
       "      <th>dst_host_rerror_rate</th>\n",
       "      <th>dst_host_srv_rerror_rate</th>\n",
       "      <th>label</th>\n",
       "      <th>intrusion</th>\n",
       "    </tr>\n",
       "  </thead>\n",
       "  <tbody>\n",
       "    <tr>\n",
       "      <th>0</th>\n",
       "      <td>-0.112481</td>\n",
       "      <td>tcp</td>\n",
       "      <td>ftp_data</td>\n",
       "      <td>SF</td>\n",
       "      <td>-0.007346</td>\n",
       "      <td>-0.004614</td>\n",
       "      <td>-0.01468</td>\n",
       "      <td>-0.085488</td>\n",
       "      <td>-0.010403</td>\n",
       "      <td>-0.094071</td>\n",
       "      <td>...</td>\n",
       "      <td>-0.813554</td>\n",
       "      <td>-0.278736</td>\n",
       "      <td>0.077981</td>\n",
       "      <td>-0.280650</td>\n",
       "      <td>-0.597720</td>\n",
       "      <td>-0.584813</td>\n",
       "      <td>-0.267151</td>\n",
       "      <td>-0.406815</td>\n",
       "      <td>normal</td>\n",
       "      <td>4</td>\n",
       "    </tr>\n",
       "    <tr>\n",
       "      <th>1</th>\n",
       "      <td>-0.112481</td>\n",
       "      <td>udp</td>\n",
       "      <td>other</td>\n",
       "      <td>SF</td>\n",
       "      <td>-0.007409</td>\n",
       "      <td>-0.004614</td>\n",
       "      <td>-0.01468</td>\n",
       "      <td>-0.085488</td>\n",
       "      <td>-0.010403</td>\n",
       "      <td>-0.094071</td>\n",
       "      <td>...</td>\n",
       "      <td>-1.192968</td>\n",
       "      <td>2.657874</td>\n",
       "      <td>2.378421</td>\n",
       "      <td>-0.280650</td>\n",
       "      <td>-0.597720</td>\n",
       "      <td>-0.584813</td>\n",
       "      <td>-0.422074</td>\n",
       "      <td>-0.406815</td>\n",
       "      <td>normal</td>\n",
       "      <td>4</td>\n",
       "    </tr>\n",
       "    <tr>\n",
       "      <th>2</th>\n",
       "      <td>-0.112481</td>\n",
       "      <td>tcp</td>\n",
       "      <td>private</td>\n",
       "      <td>S0</td>\n",
       "      <td>-0.007436</td>\n",
       "      <td>-0.004614</td>\n",
       "      <td>-0.01468</td>\n",
       "      <td>-0.085488</td>\n",
       "      <td>-0.010403</td>\n",
       "      <td>-0.094071</td>\n",
       "      <td>...</td>\n",
       "      <td>-0.969783</td>\n",
       "      <td>-0.175697</td>\n",
       "      <td>-0.472829</td>\n",
       "      <td>-0.280650</td>\n",
       "      <td>1.736012</td>\n",
       "      <td>1.742295</td>\n",
       "      <td>-0.422074</td>\n",
       "      <td>-0.406815</td>\n",
       "      <td>Dos</td>\n",
       "      <td>0</td>\n",
       "    </tr>\n",
       "    <tr>\n",
       "      <th>3</th>\n",
       "      <td>-0.112481</td>\n",
       "      <td>tcp</td>\n",
       "      <td>http</td>\n",
       "      <td>SF</td>\n",
       "      <td>-0.007394</td>\n",
       "      <td>-0.002413</td>\n",
       "      <td>-0.01468</td>\n",
       "      <td>-0.085488</td>\n",
       "      <td>-0.010403</td>\n",
       "      <td>-0.094071</td>\n",
       "      <td>...</td>\n",
       "      <td>1.038878</td>\n",
       "      <td>-0.433294</td>\n",
       "      <td>-0.375627</td>\n",
       "      <td>0.086408</td>\n",
       "      <td>-0.527708</td>\n",
       "      <td>-0.561542</td>\n",
       "      <td>-0.422074</td>\n",
       "      <td>-0.376989</td>\n",
       "      <td>normal</td>\n",
       "      <td>4</td>\n",
       "    </tr>\n",
       "    <tr>\n",
       "      <th>4</th>\n",
       "      <td>-0.112481</td>\n",
       "      <td>tcp</td>\n",
       "      <td>http</td>\n",
       "      <td>SF</td>\n",
       "      <td>-0.007400</td>\n",
       "      <td>-0.004501</td>\n",
       "      <td>-0.01468</td>\n",
       "      <td>-0.085488</td>\n",
       "      <td>-0.010403</td>\n",
       "      <td>-0.094071</td>\n",
       "      <td>...</td>\n",
       "      <td>1.038878</td>\n",
       "      <td>-0.433294</td>\n",
       "      <td>-0.472829</td>\n",
       "      <td>-0.280650</td>\n",
       "      <td>-0.597720</td>\n",
       "      <td>-0.584813</td>\n",
       "      <td>-0.422074</td>\n",
       "      <td>-0.406815</td>\n",
       "      <td>normal</td>\n",
       "      <td>4</td>\n",
       "    </tr>\n",
       "    <tr>\n",
       "      <th>...</th>\n",
       "      <td>...</td>\n",
       "      <td>...</td>\n",
       "      <td>...</td>\n",
       "      <td>...</td>\n",
       "      <td>...</td>\n",
       "      <td>...</td>\n",
       "      <td>...</td>\n",
       "      <td>...</td>\n",
       "      <td>...</td>\n",
       "      <td>...</td>\n",
       "      <td>...</td>\n",
       "      <td>...</td>\n",
       "      <td>...</td>\n",
       "      <td>...</td>\n",
       "      <td>...</td>\n",
       "      <td>...</td>\n",
       "      <td>...</td>\n",
       "      <td>...</td>\n",
       "      <td>...</td>\n",
       "      <td>...</td>\n",
       "      <td>...</td>\n",
       "    </tr>\n",
       "    <tr>\n",
       "      <th>148512</th>\n",
       "      <td>-0.112481</td>\n",
       "      <td>tcp</td>\n",
       "      <td>smtp</td>\n",
       "      <td>SF</td>\n",
       "      <td>-0.007290</td>\n",
       "      <td>-0.004524</td>\n",
       "      <td>-0.01468</td>\n",
       "      <td>-0.085488</td>\n",
       "      <td>-0.010403</td>\n",
       "      <td>-0.094071</td>\n",
       "      <td>...</td>\n",
       "      <td>0.413961</td>\n",
       "      <td>-0.124178</td>\n",
       "      <td>-0.440428</td>\n",
       "      <td>-0.188885</td>\n",
       "      <td>-0.574382</td>\n",
       "      <td>-0.584813</td>\n",
       "      <td>-0.422074</td>\n",
       "      <td>-0.406815</td>\n",
       "      <td>normal</td>\n",
       "      <td>4</td>\n",
       "    </tr>\n",
       "    <tr>\n",
       "      <th>148513</th>\n",
       "      <td>-0.112481</td>\n",
       "      <td>tcp</td>\n",
       "      <td>http</td>\n",
       "      <td>SF</td>\n",
       "      <td>-0.007378</td>\n",
       "      <td>-0.004361</td>\n",
       "      <td>-0.01468</td>\n",
       "      <td>-0.085488</td>\n",
       "      <td>-0.010403</td>\n",
       "      <td>-0.094071</td>\n",
       "      <td>...</td>\n",
       "      <td>1.038878</td>\n",
       "      <td>-0.433294</td>\n",
       "      <td>-0.440428</td>\n",
       "      <td>-0.188885</td>\n",
       "      <td>-0.574382</td>\n",
       "      <td>-0.584813</td>\n",
       "      <td>-0.422074</td>\n",
       "      <td>-0.406815</td>\n",
       "      <td>normal</td>\n",
       "      <td>4</td>\n",
       "    </tr>\n",
       "    <tr>\n",
       "      <th>148514</th>\n",
       "      <td>-0.112481</td>\n",
       "      <td>tcp</td>\n",
       "      <td>http</td>\n",
       "      <td>SF</td>\n",
       "      <td>0.002646</td>\n",
       "      <td>-0.002369</td>\n",
       "      <td>-0.01468</td>\n",
       "      <td>-0.085488</td>\n",
       "      <td>-0.010403</td>\n",
       "      <td>0.899396</td>\n",
       "      <td>...</td>\n",
       "      <td>1.038878</td>\n",
       "      <td>-0.433294</td>\n",
       "      <td>-0.472829</td>\n",
       "      <td>-0.280650</td>\n",
       "      <td>-0.597720</td>\n",
       "      <td>-0.584813</td>\n",
       "      <td>-0.205182</td>\n",
       "      <td>-0.198035</td>\n",
       "      <td>Dos</td>\n",
       "      <td>0</td>\n",
       "    </tr>\n",
       "    <tr>\n",
       "      <th>148515</th>\n",
       "      <td>-0.112481</td>\n",
       "      <td>udp</td>\n",
       "      <td>domain_u</td>\n",
       "      <td>SF</td>\n",
       "      <td>-0.007429</td>\n",
       "      <td>-0.004603</td>\n",
       "      <td>-0.01468</td>\n",
       "      <td>-0.085488</td>\n",
       "      <td>-0.010403</td>\n",
       "      <td>-0.094071</td>\n",
       "      <td>...</td>\n",
       "      <td>1.016560</td>\n",
       "      <td>-0.381775</td>\n",
       "      <td>-0.472829</td>\n",
       "      <td>-0.280650</td>\n",
       "      <td>-0.597720</td>\n",
       "      <td>-0.584813</td>\n",
       "      <td>-0.422074</td>\n",
       "      <td>-0.406815</td>\n",
       "      <td>normal</td>\n",
       "      <td>4</td>\n",
       "    </tr>\n",
       "    <tr>\n",
       "      <th>148516</th>\n",
       "      <td>-0.112481</td>\n",
       "      <td>tcp</td>\n",
       "      <td>sunrpc</td>\n",
       "      <td>REJ</td>\n",
       "      <td>-0.007436</td>\n",
       "      <td>-0.004614</td>\n",
       "      <td>-0.01468</td>\n",
       "      <td>-0.085488</td>\n",
       "      <td>-0.010403</td>\n",
       "      <td>-0.094071</td>\n",
       "      <td>...</td>\n",
       "      <td>-1.014420</td>\n",
       "      <td>-0.278736</td>\n",
       "      <td>-0.472829</td>\n",
       "      <td>-0.280650</td>\n",
       "      <td>-0.597720</td>\n",
       "      <td>-0.584813</td>\n",
       "      <td>0.941252</td>\n",
       "      <td>2.575756</td>\n",
       "      <td>Probe</td>\n",
       "      <td>1</td>\n",
       "    </tr>\n",
       "  </tbody>\n",
       "</table>\n",
       "<p>148517 rows × 43 columns</p>\n",
       "</div>"
      ],
      "text/plain": [
       "        duration protocol_type   service flag  src_bytes  dst_bytes     land  \\\n",
       "0      -0.112481           tcp  ftp_data   SF  -0.007346  -0.004614 -0.01468   \n",
       "1      -0.112481           udp     other   SF  -0.007409  -0.004614 -0.01468   \n",
       "2      -0.112481           tcp   private   S0  -0.007436  -0.004614 -0.01468   \n",
       "3      -0.112481           tcp      http   SF  -0.007394  -0.002413 -0.01468   \n",
       "4      -0.112481           tcp      http   SF  -0.007400  -0.004501 -0.01468   \n",
       "...          ...           ...       ...  ...        ...        ...      ...   \n",
       "148512 -0.112481           tcp      smtp   SF  -0.007290  -0.004524 -0.01468   \n",
       "148513 -0.112481           tcp      http   SF  -0.007378  -0.004361 -0.01468   \n",
       "148514 -0.112481           tcp      http   SF   0.002646  -0.002369 -0.01468   \n",
       "148515 -0.112481           udp  domain_u   SF  -0.007429  -0.004603 -0.01468   \n",
       "148516 -0.112481           tcp    sunrpc  REJ  -0.007436  -0.004614 -0.01468   \n",
       "\n",
       "        wrong_fragment    urgent       hot  ...  dst_host_same_srv_rate  \\\n",
       "0            -0.085488 -0.010403 -0.094071  ...               -0.813554   \n",
       "1            -0.085488 -0.010403 -0.094071  ...               -1.192968   \n",
       "2            -0.085488 -0.010403 -0.094071  ...               -0.969783   \n",
       "3            -0.085488 -0.010403 -0.094071  ...                1.038878   \n",
       "4            -0.085488 -0.010403 -0.094071  ...                1.038878   \n",
       "...                ...       ...       ...  ...                     ...   \n",
       "148512       -0.085488 -0.010403 -0.094071  ...                0.413961   \n",
       "148513       -0.085488 -0.010403 -0.094071  ...                1.038878   \n",
       "148514       -0.085488 -0.010403  0.899396  ...                1.038878   \n",
       "148515       -0.085488 -0.010403 -0.094071  ...                1.016560   \n",
       "148516       -0.085488 -0.010403 -0.094071  ...               -1.014420   \n",
       "\n",
       "        dst_host_diff_srv_rate  dst_host_same_src_port_rate  \\\n",
       "0                    -0.278736                     0.077981   \n",
       "1                     2.657874                     2.378421   \n",
       "2                    -0.175697                    -0.472829   \n",
       "3                    -0.433294                    -0.375627   \n",
       "4                    -0.433294                    -0.472829   \n",
       "...                        ...                          ...   \n",
       "148512               -0.124178                    -0.440428   \n",
       "148513               -0.433294                    -0.440428   \n",
       "148514               -0.433294                    -0.472829   \n",
       "148515               -0.381775                    -0.472829   \n",
       "148516               -0.278736                    -0.472829   \n",
       "\n",
       "        dst_host_srv_diff_host_rate  dst_host_serror_rate  \\\n",
       "0                         -0.280650             -0.597720   \n",
       "1                         -0.280650             -0.597720   \n",
       "2                         -0.280650              1.736012   \n",
       "3                          0.086408             -0.527708   \n",
       "4                         -0.280650             -0.597720   \n",
       "...                             ...                   ...   \n",
       "148512                    -0.188885             -0.574382   \n",
       "148513                    -0.188885             -0.574382   \n",
       "148514                    -0.280650             -0.597720   \n",
       "148515                    -0.280650             -0.597720   \n",
       "148516                    -0.280650             -0.597720   \n",
       "\n",
       "        dst_host_srv_serror_rate  dst_host_rerror_rate  \\\n",
       "0                      -0.584813             -0.267151   \n",
       "1                      -0.584813             -0.422074   \n",
       "2                       1.742295             -0.422074   \n",
       "3                      -0.561542             -0.422074   \n",
       "4                      -0.584813             -0.422074   \n",
       "...                          ...                   ...   \n",
       "148512                 -0.584813             -0.422074   \n",
       "148513                 -0.584813             -0.422074   \n",
       "148514                 -0.584813             -0.205182   \n",
       "148515                 -0.584813             -0.422074   \n",
       "148516                 -0.584813              0.941252   \n",
       "\n",
       "        dst_host_srv_rerror_rate   label  intrusion  \n",
       "0                      -0.406815  normal          4  \n",
       "1                      -0.406815  normal          4  \n",
       "2                      -0.406815     Dos          0  \n",
       "3                      -0.376989  normal          4  \n",
       "4                      -0.406815  normal          4  \n",
       "...                          ...     ...        ...  \n",
       "148512                 -0.406815  normal          4  \n",
       "148513                 -0.406815  normal          4  \n",
       "148514                 -0.198035     Dos          0  \n",
       "148515                 -0.406815  normal          4  \n",
       "148516                  2.575756   Probe          1  \n",
       "\n",
       "[148517 rows x 43 columns]"
      ]
     },
     "execution_count": 108,
     "metadata": {},
     "output_type": "execute_result"
    }
   ],
   "source": [
    "# label encoding (0,1,2,3,4) multi-class labels (Dos,normal,Probe,R2L,U2R)\n",
    "le2 = preprocessing.LabelEncoder()\n",
    "enc_label = label.apply(le2.fit_transform)\n",
    "data['intrusion'] = enc_label\n",
    "print(data.shape)\n",
    "data"
   ]
  },
  {
   "cell_type": "code",
   "execution_count": 109,
   "id": "3c23939a",
   "metadata": {
    "execution": {
     "iopub.execute_input": "2023-09-15T01:27:13.232144Z",
     "iopub.status.busy": "2023-09-15T01:27:13.231794Z",
     "iopub.status.idle": "2023-09-15T01:27:13.265338Z",
     "shell.execute_reply": "2023-09-15T01:27:13.263950Z"
    },
    "papermill": {
     "duration": 0.047587,
     "end_time": "2023-09-15T01:27:13.267652",
     "exception": false,
     "start_time": "2023-09-15T01:27:13.220065",
     "status": "completed"
    },
    "tags": []
   },
   "outputs": [
    {
     "name": "stdout",
     "output_type": "stream",
     "text": [
      "(148517, 42)\n"
     ]
    }
   ],
   "source": [
    "data.drop(labels= ['label'], axis=1, inplace=True)\n",
    "print(data.shape)\n"
   ]
  },
  {
   "cell_type": "code",
   "execution_count": 110,
   "id": "8e2d932e",
   "metadata": {
    "execution": {
     "iopub.execute_input": "2023-09-15T01:27:13.291016Z",
     "iopub.status.busy": "2023-09-15T01:27:13.290622Z",
     "iopub.status.idle": "2023-09-15T01:27:13.490549Z",
     "shell.execute_reply": "2023-09-15T01:27:13.489611Z"
    },
    "papermill": {
     "duration": 0.214032,
     "end_time": "2023-09-15T01:27:13.492940",
     "exception": false,
     "start_time": "2023-09-15T01:27:13.278908",
     "status": "completed"
    },
    "tags": []
   },
   "outputs": [
    {
     "name": "stdout",
     "output_type": "stream",
     "text": [
      "(148517, 123)\n"
     ]
    }
   ],
   "source": [
    "# one-hot-encoding categorical columns\n",
    "data = pd.get_dummies(data,columns=['protocol_type','service','flag'],prefix=\"\",prefix_sep=\"\")  \n",
    "print(data.shape)"
   ]
  },
  {
   "cell_type": "code",
   "execution_count": 111,
   "id": "d87ea53a",
   "metadata": {
    "execution": {
     "iopub.execute_input": "2023-09-15T01:27:13.516347Z",
     "iopub.status.busy": "2023-09-15T01:27:13.515949Z",
     "iopub.status.idle": "2023-09-15T01:27:13.555414Z",
     "shell.execute_reply": "2023-09-15T01:27:13.554315Z"
    },
    "papermill": {
     "duration": 0.054093,
     "end_time": "2023-09-15T01:27:13.557747",
     "exception": false,
     "start_time": "2023-09-15T01:27:13.503654",
     "status": "completed"
    },
    "tags": []
   },
   "outputs": [
    {
     "name": "stdout",
     "output_type": "stream",
     "text": [
      "X_train has shape: (148517, 122) \n",
      "y_train has shape: (148517,)\n"
     ]
    }
   ],
   "source": [
    "y_data= data['intrusion']\n",
    "X_data= data.drop(labels=['intrusion'], axis=1)\n",
    "\n",
    "print('X_train has shape:',X_data.shape,'\\ny_train has shape:',y_data.shape)"
   ]
  },
  {
   "cell_type": "code",
   "execution_count": 112,
   "id": "d972c46d",
   "metadata": {
    "execution": {
     "iopub.execute_input": "2023-09-15T01:27:13.581304Z",
     "iopub.status.busy": "2023-09-15T01:27:13.580153Z",
     "iopub.status.idle": "2023-09-15T01:27:14.614479Z",
     "shell.execute_reply": "2023-09-15T01:27:14.613555Z"
    },
    "papermill": {
     "duration": 1.048401,
     "end_time": "2023-09-15T01:27:14.616939",
     "exception": false,
     "start_time": "2023-09-15T01:27:13.568538",
     "status": "completed"
    },
    "tags": []
   },
   "outputs": [],
   "source": [
    "from sklearn.preprocessing import LabelBinarizer\n",
    "y_data = LabelBinarizer().fit_transform(y_data)\n",
    "\n",
    "X_data=np.array(X_data)\n",
    "y_data=np.array(y_data)"
   ]
  },
  {
   "cell_type": "code",
   "execution_count": 113,
   "id": "61861aa3",
   "metadata": {
    "execution": {
     "iopub.execute_input": "2023-09-15T01:27:14.640300Z",
     "iopub.status.busy": "2023-09-15T01:27:14.639923Z",
     "iopub.status.idle": "2023-09-15T01:27:17.063025Z",
     "shell.execute_reply": "2023-09-15T01:27:17.060332Z"
    },
    "papermill": {
     "duration": 2.438832,
     "end_time": "2023-09-15T01:27:17.066492",
     "exception": false,
     "start_time": "2023-09-15T01:27:14.627660",
     "status": "completed"
    },
    "tags": []
   },
   "outputs": [
    {
     "name": "stdout",
     "output_type": "stream",
     "text": [
      "(118813, 122) \n",
      " (29704, 122)\n"
     ]
    }
   ],
   "source": [
    "X_train, X_test, y_train, y_test = train_test_split(X_data,y_data, test_size=0.20, random_state=42)\n",
    "print(X_train.shape,'\\n',X_test.shape)"
   ]
  },
  {
   "cell_type": "code",
   "execution_count": 114,
   "id": "4c3d5cbe",
   "metadata": {
    "execution": {
     "iopub.execute_input": "2023-09-15T01:27:17.092639Z",
     "iopub.status.busy": "2023-09-15T01:27:17.092196Z",
     "iopub.status.idle": "2023-09-15T01:27:17.098079Z",
     "shell.execute_reply": "2023-09-15T01:27:17.096628Z"
    },
    "papermill": {
     "duration": 0.021226,
     "end_time": "2023-09-15T01:27:17.100798",
     "exception": false,
     "start_time": "2023-09-15T01:27:17.079572",
     "status": "completed"
    },
    "tags": []
   },
   "outputs": [],
   "source": [
    "# reshape input to be [samples, time steps, features]\n",
    "X_train = np.reshape(X_train, ( X_train.shape[0], 1 , X_train.shape[1] ))\n",
    "X_test = np.reshape(X_test, ( X_test.shape[0], 1,  X_test.shape[1] ))"
   ]
  },
  {
   "cell_type": "code",
   "execution_count": 115,
   "id": "e38432be",
   "metadata": {
    "execution": {
     "iopub.execute_input": "2023-09-15T01:27:17.126290Z",
     "iopub.status.busy": "2023-09-15T01:27:17.125566Z",
     "iopub.status.idle": "2023-09-15T01:27:18.185510Z",
     "shell.execute_reply": "2023-09-15T01:27:18.184437Z"
    },
    "papermill": {
     "duration": 1.07533,
     "end_time": "2023-09-15T01:27:18.188201",
     "exception": false,
     "start_time": "2023-09-15T01:27:17.112871",
     "status": "completed"
    },
    "tags": []
   },
   "outputs": [],
   "source": [
    "model = Sequential() # initializing model\n",
    "model.add(LSTM(64,return_sequences=True,input_shape = (1, X_train.shape[2])))\n",
    "model.add(Dropout(0.2))\n",
    "model.add(LSTM(64,return_sequences=True))\n",
    "model.add(Dropout(0.2))\n",
    "model.add(LSTM(64,return_sequences=True))\n",
    "model.add(Flatten())\n",
    "model.add(Dense(units=50))\n",
    "# output layer with softmax activation\n",
    "model.add(Dense(units=5,activation='softmax'))"
   ]
  },
  {
   "cell_type": "code",
   "execution_count": 116,
   "id": "d36c4710",
   "metadata": {
    "execution": {
     "iopub.execute_input": "2023-09-15T01:27:18.212446Z",
     "iopub.status.busy": "2023-09-15T01:27:18.211499Z",
     "iopub.status.idle": "2023-09-15T01:27:18.245013Z",
     "shell.execute_reply": "2023-09-15T01:27:18.243737Z"
    },
    "papermill": {
     "duration": 0.048153,
     "end_time": "2023-09-15T01:27:18.247694",
     "exception": false,
     "start_time": "2023-09-15T01:27:18.199541",
     "status": "completed"
    },
    "tags": []
   },
   "outputs": [],
   "source": [
    "# defining loss function, optimizer, metrics and then compiling model\n",
    "model.compile(loss='categorical_crossentropy', optimizer='adam', metrics=['accuracy',tf.keras.metrics.Precision(),tf.keras.metrics.Recall()])"
   ]
  },
  {
   "cell_type": "code",
   "execution_count": 117,
   "id": "ebd3e54e",
   "metadata": {
    "execution": {
     "iopub.execute_input": "2023-09-15T01:27:18.271214Z",
     "iopub.status.busy": "2023-09-15T01:27:18.270850Z",
     "iopub.status.idle": "2023-09-15T01:27:18.301586Z",
     "shell.execute_reply": "2023-09-15T01:27:18.300792Z"
    },
    "papermill": {
     "duration": 0.049462,
     "end_time": "2023-09-15T01:27:18.308497",
     "exception": false,
     "start_time": "2023-09-15T01:27:18.259035",
     "status": "completed"
    },
    "tags": []
   },
   "outputs": [
    {
     "name": "stdout",
     "output_type": "stream",
     "text": [
      "Model: \"sequential_3\"\n",
      "_________________________________________________________________\n",
      " Layer (type)                Output Shape              Param #   \n",
      "=================================================================\n",
      " lstm_9 (LSTM)               (None, 1, 64)             47872     \n",
      "                                                                 \n",
      " dropout_6 (Dropout)         (None, 1, 64)             0         \n",
      "                                                                 \n",
      " lstm_10 (LSTM)              (None, 1, 64)             33024     \n",
      "                                                                 \n",
      " dropout_7 (Dropout)         (None, 1, 64)             0         \n",
      "                                                                 \n",
      " lstm_11 (LSTM)              (None, 1, 64)             33024     \n",
      "                                                                 \n",
      " flatten_3 (Flatten)         (None, 64)                0         \n",
      "                                                                 \n",
      " dense_6 (Dense)             (None, 50)                3250      \n",
      "                                                                 \n",
      " dense_7 (Dense)             (None, 5)                 255       \n",
      "                                                                 \n",
      "=================================================================\n",
      "Total params: 117425 (458.69 KB)\n",
      "Trainable params: 117425 (458.69 KB)\n",
      "Non-trainable params: 0 (0.00 Byte)\n",
      "_________________________________________________________________\n"
     ]
    }
   ],
   "source": [
    "# summary of model layers\n",
    "model.summary()"
   ]
  },
  {
   "cell_type": "code",
   "execution_count": 118,
   "id": "66218a6b",
   "metadata": {
    "execution": {
     "iopub.execute_input": "2023-09-15T01:27:18.334899Z",
     "iopub.status.busy": "2023-09-15T01:27:18.334468Z",
     "iopub.status.idle": "2023-09-15T01:27:19.476064Z",
     "shell.execute_reply": "2023-09-15T01:27:19.475018Z"
    },
    "papermill": {
     "duration": 1.157754,
     "end_time": "2023-09-15T01:27:19.478498",
     "exception": false,
     "start_time": "2023-09-15T01:27:18.320744",
     "status": "completed"
    },
    "tags": []
   },
   "outputs": [],
   "source": [
    "X_train = X_train.astype(float)\n",
    "y_train = y_train.astype(float)"
   ]
  },
  {
   "cell_type": "code",
   "execution_count": 119,
   "id": "1120e295",
   "metadata": {
    "execution": {
     "iopub.execute_input": "2023-09-15T01:27:19.565002Z",
     "iopub.status.busy": "2023-09-15T01:27:19.564609Z",
     "iopub.status.idle": "2023-09-15T01:28:13.446531Z",
     "shell.execute_reply": "2023-09-15T01:28:13.445547Z"
    },
    "papermill": {
     "duration": 53.897844,
     "end_time": "2023-09-15T01:28:13.448971",
     "exception": false,
     "start_time": "2023-09-15T01:27:19.551127",
     "status": "completed"
    },
    "tags": []
   },
   "outputs": [
    {
     "name": "stdout",
     "output_type": "stream",
     "text": [
      "Epoch 1/20\n",
      "20/20 [==============================] - 13s 273ms/step - loss: 1.5337 - accuracy: 0.7533 - precision_3: 0.0000e+00 - recall_3: 0.0000e+00 - val_loss: 1.3819 - val_accuracy: 0.8334 - val_precision_3: 0.0000e+00 - val_recall_3: 0.0000e+00\n",
      "Epoch 2/20\n",
      "20/20 [==============================] - 3s 158ms/step - loss: 1.0441 - accuracy: 0.8324 - precision_3: 0.9549 - recall_3: 0.2421 - val_loss: 0.5569 - val_accuracy: 0.8294 - val_precision_3: 0.9091 - val_recall_3: 0.7842\n",
      "Epoch 3/20\n",
      "20/20 [==============================] - 3s 144ms/step - loss: 0.4680 - accuracy: 0.8417 - precision_3: 0.8997 - recall_3: 0.8082 - val_loss: 0.3872 - val_accuracy: 0.8781 - val_precision_3: 0.9371 - val_recall_3: 0.8227\n",
      "Epoch 4/20\n",
      "20/20 [==============================] - 3s 138ms/step - loss: 0.3439 - accuracy: 0.9098 - precision_3: 0.9456 - recall_3: 0.8288 - val_loss: 0.2914 - val_accuracy: 0.9255 - val_precision_3: 0.9504 - val_recall_3: 0.8816\n",
      "Epoch 5/20\n",
      "20/20 [==============================] - 3s 131ms/step - loss: 0.2568 - accuracy: 0.9286 - precision_3: 0.9476 - recall_3: 0.9057 - val_loss: 0.2199 - val_accuracy: 0.9358 - val_precision_3: 0.9485 - val_recall_3: 0.9269\n",
      "Epoch 6/20\n",
      "20/20 [==============================] - 3s 152ms/step - loss: 0.2040 - accuracy: 0.9391 - precision_3: 0.9504 - recall_3: 0.9305 - val_loss: 0.1839 - val_accuracy: 0.9433 - val_precision_3: 0.9535 - val_recall_3: 0.9386\n",
      "Epoch 7/20\n",
      "20/20 [==============================] - 3s 146ms/step - loss: 0.1750 - accuracy: 0.9447 - precision_3: 0.9545 - recall_3: 0.9394 - val_loss: 0.1608 - val_accuracy: 0.9475 - val_precision_3: 0.9562 - val_recall_3: 0.9433\n",
      "Epoch 8/20\n",
      "20/20 [==============================] - 3s 134ms/step - loss: 0.1544 - accuracy: 0.9480 - precision_3: 0.9572 - recall_3: 0.9441 - val_loss: 0.1425 - val_accuracy: 0.9502 - val_precision_3: 0.9589 - val_recall_3: 0.9473\n",
      "Epoch 9/20\n",
      "20/20 [==============================] - 3s 129ms/step - loss: 0.1388 - accuracy: 0.9499 - precision_3: 0.9606 - recall_3: 0.9461 - val_loss: 0.1275 - val_accuracy: 0.9515 - val_precision_3: 0.9611 - val_recall_3: 0.9487\n",
      "Epoch 10/20\n",
      "20/20 [==============================] - 3s 129ms/step - loss: 0.1246 - accuracy: 0.9535 - precision_3: 0.9652 - recall_3: 0.9488 - val_loss: 0.1142 - val_accuracy: 0.9576 - val_precision_3: 0.9668 - val_recall_3: 0.9541\n",
      "Epoch 11/20\n",
      "20/20 [==============================] - 3s 142ms/step - loss: 0.1127 - accuracy: 0.9592 - precision_3: 0.9696 - recall_3: 0.9530 - val_loss: 0.1047 - val_accuracy: 0.9638 - val_precision_3: 0.9687 - val_recall_3: 0.9572\n",
      "Epoch 12/20\n",
      "20/20 [==============================] - 3s 159ms/step - loss: 0.1047 - accuracy: 0.9621 - precision_3: 0.9700 - recall_3: 0.9558 - val_loss: 0.0965 - val_accuracy: 0.9658 - val_precision_3: 0.9725 - val_recall_3: 0.9609\n",
      "Epoch 13/20\n",
      "20/20 [==============================] - 4s 180ms/step - loss: 0.0977 - accuracy: 0.9648 - precision_3: 0.9737 - recall_3: 0.9586 - val_loss: 0.0897 - val_accuracy: 0.9659 - val_precision_3: 0.9718 - val_recall_3: 0.9632\n",
      "Epoch 14/20\n",
      "20/20 [==============================] - 4s 189ms/step - loss: 0.0894 - accuracy: 0.9670 - precision_3: 0.9740 - recall_3: 0.9624 - val_loss: 0.0832 - val_accuracy: 0.9682 - val_precision_3: 0.9758 - val_recall_3: 0.9644\n",
      "Epoch 15/20\n",
      "20/20 [==============================] - 4s 213ms/step - loss: 0.0831 - accuracy: 0.9705 - precision_3: 0.9756 - recall_3: 0.9647 - val_loss: 0.0773 - val_accuracy: 0.9747 - val_precision_3: 0.9771 - val_recall_3: 0.9679\n",
      "Epoch 16/20\n",
      "20/20 [==============================] - 4s 187ms/step - loss: 0.0781 - accuracy: 0.9742 - precision_3: 0.9769 - recall_3: 0.9699 - val_loss: 0.0721 - val_accuracy: 0.9771 - val_precision_3: 0.9790 - val_recall_3: 0.9750\n",
      "Epoch 17/20\n",
      "20/20 [==============================] - 3s 175ms/step - loss: 0.0733 - accuracy: 0.9756 - precision_3: 0.9779 - recall_3: 0.9729 - val_loss: 0.0681 - val_accuracy: 0.9786 - val_precision_3: 0.9801 - val_recall_3: 0.9770\n",
      "Epoch 18/20\n",
      "20/20 [==============================] - 3s 175ms/step - loss: 0.0694 - accuracy: 0.9770 - precision_3: 0.9789 - recall_3: 0.9751 - val_loss: 0.0643 - val_accuracy: 0.9800 - val_precision_3: 0.9816 - val_recall_3: 0.9792\n",
      "Epoch 19/20\n",
      "20/20 [==============================] - 7s 363ms/step - loss: 0.0660 - accuracy: 0.9776 - precision_3: 0.9795 - recall_3: 0.9758 - val_loss: 0.0616 - val_accuracy: 0.9813 - val_precision_3: 0.9851 - val_recall_3: 0.9776\n",
      "Epoch 20/20\n",
      "20/20 [==============================] - 5s 258ms/step - loss: 0.0650 - accuracy: 0.9779 - precision_3: 0.9797 - recall_3: 0.9763 - val_loss: 0.0592 - val_accuracy: 0.9803 - val_precision_3: 0.9822 - val_recall_3: 0.9789\n"
     ]
    }
   ],
   "source": [
    "# training the model on training dataset\n",
    "history = model.fit(X_train, y_train, epochs=20, batch_size=5000,validation_split=0.2)"
   ]
  },
  {
   "cell_type": "code",
   "execution_count": 120,
   "id": "6cc8b547",
   "metadata": {
    "execution": {
     "iopub.execute_input": "2023-09-15T01:28:19.120755Z",
     "iopub.status.busy": "2023-09-15T01:28:19.120359Z",
     "iopub.status.idle": "2023-09-15T01:28:23.008370Z",
     "shell.execute_reply": "2023-09-15T01:28:23.007104Z"
    },
    "papermill": {
     "duration": 3.952525,
     "end_time": "2023-09-15T01:28:23.012004",
     "exception": false,
     "start_time": "2023-09-15T01:28:19.059479",
     "status": "completed"
    },
    "tags": []
   },
   "outputs": [
    {
     "name": "stdout",
     "output_type": "stream",
     "text": [
      "929/929 [==============================] - 21s 14ms/step\n",
      "              precision    recall  f1-score   support\n",
      "\n",
      "           0       0.99      1.00      0.99     10688\n",
      "           1       0.96      0.98      0.97      2749\n",
      "           2       0.81      0.77      0.79       792\n",
      "           3       0.00      0.00      0.00        25\n",
      "           4       0.98      0.98      0.98     15450\n",
      "\n",
      "    accuracy                           0.98     29704\n",
      "   macro avg       0.75      0.75      0.75     29704\n",
      "weighted avg       0.98      0.98      0.98     29704\n",
      "\n"
     ]
    },
    {
     "name": "stderr",
     "output_type": "stream",
     "text": [
      "c:\\Users\\saran\\AppData\\Local\\Programs\\Python\\Python310\\lib\\site-packages\\sklearn\\metrics\\_classification.py:1344: UndefinedMetricWarning: Precision and F-score are ill-defined and being set to 0.0 in labels with no predicted samples. Use `zero_division` parameter to control this behavior.\n",
      "  _warn_prf(average, modifier, msg_start, len(result))\n",
      "c:\\Users\\saran\\AppData\\Local\\Programs\\Python\\Python310\\lib\\site-packages\\sklearn\\metrics\\_classification.py:1344: UndefinedMetricWarning: Precision and F-score are ill-defined and being set to 0.0 in labels with no predicted samples. Use `zero_division` parameter to control this behavior.\n",
      "  _warn_prf(average, modifier, msg_start, len(result))\n",
      "c:\\Users\\saran\\AppData\\Local\\Programs\\Python\\Python310\\lib\\site-packages\\sklearn\\metrics\\_classification.py:1344: UndefinedMetricWarning: Precision and F-score are ill-defined and being set to 0.0 in labels with no predicted samples. Use `zero_division` parameter to control this behavior.\n",
      "  _warn_prf(average, modifier, msg_start, len(result))\n"
     ]
    }
   ],
   "source": [
    "from sklearn.metrics import classification_report\n",
    "\n",
    "y_predict = model.predict(X_test)\n",
    "y_pred = y_predict.argmax(axis=-1)\n",
    "y_test = y_test.argmax(axis = -1 )\n",
    "report = classification_report(y_test, y_pred)\n",
    "print(report)"
   ]
  },
  {
   "cell_type": "code",
   "execution_count": 121,
   "id": "20337ac6",
   "metadata": {
    "execution": {
     "iopub.execute_input": "2023-09-15T01:28:18.236590Z",
     "iopub.status.busy": "2023-09-15T01:28:18.236162Z",
     "iopub.status.idle": "2023-09-15T01:28:18.568220Z",
     "shell.execute_reply": "2023-09-15T01:28:18.567014Z"
    },
    "papermill": {
     "duration": 0.392913,
     "end_time": "2023-09-15T01:28:18.570735",
     "exception": false,
     "start_time": "2023-09-15T01:28:18.177822",
     "status": "completed"
    },
    "tags": []
   },
   "outputs": [
    {
     "data": {
      "text/plain": [
       "Text(0.5, 0, 'Epochs')"
      ]
     },
     "execution_count": 121,
     "metadata": {},
     "output_type": "execute_result"
    },
    {
     "data": {
      "image/png": "[encoded data removed]",
      "text/plain": [
       "<Figure size 432x288 with 1 Axes>"
      ]
     },
     "metadata": {
      "needs_background": "light"
     },
     "output_type": "display_data"
    }
   ],
   "source": [
    "pd.DataFrame(history.history)\n",
    "pd.DataFrame(history.history)[['accuracy','val_accuracy']].plot()\n",
    "plt.ylabel('Accuracy')\n",
    "plt.xlabel('Epochs')"
   ]
  },
  {
   "cell_type": "code",
   "execution_count": 122,
   "id": "fb7d992e",
   "metadata": {
    "execution": {
     "iopub.execute_input": "2023-09-15T01:28:18.689419Z",
     "iopub.status.busy": "2023-09-15T01:28:18.689010Z",
     "iopub.status.idle": "2023-09-15T01:28:18.995561Z",
     "shell.execute_reply": "2023-09-15T01:28:18.994304Z"
    },
    "papermill": {
     "duration": 0.369427,
     "end_time": "2023-09-15T01:28:18.998423",
     "exception": false,
     "start_time": "2023-09-15T01:28:18.628996",
     "status": "completed"
    },
    "tags": []
   },
   "outputs": [
    {
     "data": {
      "text/plain": [
       "Text(0.5, 0, 'Epochs')"
      ]
     },
     "execution_count": 122,
     "metadata": {},
     "output_type": "execute_result"
    },
    {
     "data": {
      "image/png": "[encoded data removed]",
      "text/plain": [
       "<Figure size 432x288 with 1 Axes>"
      ]
     },
     "metadata": {
      "needs_background": "light"
     },
     "output_type": "display_data"
    }
   ],
   "source": [
    "pd.DataFrame(history.history)\n",
    "pd.DataFrame(history.history)[['loss','val_loss']].plot()\n",
    "plt.ylabel('Model Loss')\n",
    "plt.xlabel('Epochs')"
   ]
  },
  {
   "cell_type": "code",
   "execution_count": 123,
   "id": "ce476442",
   "metadata": {
    "execution": {
     "iopub.execute_input": "2023-09-15T01:28:23.137365Z",
     "iopub.status.busy": "2023-09-15T01:28:23.136981Z",
     "iopub.status.idle": "2023-09-15T01:28:23.468004Z",
     "shell.execute_reply": "2023-09-15T01:28:23.466799Z"
    },
    "papermill": {
     "duration": 0.395827,
     "end_time": "2023-09-15T01:28:23.470343",
     "exception": false,
     "start_time": "2023-09-15T01:28:23.074516",
     "status": "completed"
    },
    "tags": []
   },
   "outputs": [
    {
     "name": "stdout",
     "output_type": "stream",
     "text": [
      "Confusion Matrix:\n",
      " [[10656     6     0     0    26]\n",
      " [   12  2686     1     0    50]\n",
      " [    0     5   611     0   176]\n",
      " [    1     0    18     0     6]\n",
      " [   78    97   123     0 15152]]\n"
     ]
    },
    {
     "data": {
      "image/png": "[encoded data removed]",
      "text/plain": [
       "<Figure size 432x288 with 2 Axes>"
      ]
     },
     "metadata": {
      "needs_background": "light"
     },
     "output_type": "display_data"
    }
   ],
   "source": [
    "from sklearn.metrics import confusion_matrix, ConfusionMatrixDisplay\n",
    "# compute the confusion matrix\n",
    "cm = confusion_matrix(y_test, y_pred)\n",
    "# create a ConfusionMatrixDisplay object\n",
    "cm_display = ConfusionMatrixDisplay(cm)\n",
    "# plot the confusion matrix\n",
    "print(\"Confusion Matrix:\\n\", cm)\n",
    "cm_display.plot()\n",
    "plt.show()"
   ]
  }
 ],
 "metadata": {
  "kernelspec": {
   "display_name": "Python 3",
   "language": "python",
   "name": "python3"
  },
  "language_info": {
   "codemirror_mode": {
    "name": "ipython",
    "version": 3
   },
   "file_extension": ".py",
   "mimetype": "text/x-python",
   "name": "python",
   "nbconvert_exporter": "python",
   "pygments_lexer": "ipython3",
   "version": "3.10.2"
  },
  "papermill": {
   "default_parameters": {},
   "duration": 91.477274,
   "end_time": "2023-09-15T01:28:27.620548",
   "environment_variables": {},
   "exception": null,
   "input_path": "__notebook__.ipynb",
   "output_path": "__notebook__.ipynb",
   "parameters": {},
   "start_time": "2023-09-15T01:26:56.143274",
   "version": "2.4.0"
  }
 },
 "nbformat": 4,
 "nbformat_minor": 5
}
